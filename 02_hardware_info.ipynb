{
  "cells": [
    {
      "cell_type": "markdown",
      "metadata": {
        "id": "view-in-github",
        "colab_type": "text"
      },
      "source": [
        "<a href=\"https://colab.research.google.com/github/Kusla75/parallel-programming-workshop/blob/master/hardware_info.ipynb\" target=\"_parent\"><img src=\"https://colab.research.google.com/assets/colab-badge.svg\" alt=\"Open In Colab\"/></a>"
      ]
    },
    {
      "cell_type": "markdown",
      "source": [
        "# Accessing hardware and driver information using OpenCL API"
      ],
      "metadata": {
        "id": "CIGIr5ZFFcIA"
      }
    },
    {
      "cell_type": "markdown",
      "source": [
        "PyOpenCL is a wrapper around OpenCL API and Runtime library. With Python's package manager `pip` it can be installed on a VM instance. Installing an setting up implementation of OpenCL is not necessary because it is preinstalled into device drivers."
      ],
      "metadata": {
        "id": "uDQRBCDtETJD"
      }
    },
    {
      "cell_type": "code",
      "source": [
        "!pip install pyopencl"
      ],
      "metadata": {
        "id": "7b5gn5vIEQyJ"
      },
      "execution_count": null,
      "outputs": []
    },
    {
      "cell_type": "markdown",
      "source": [
        "---"
      ],
      "metadata": {
        "id": "MxNWz2jRK8uT"
      }
    },
    {
      "cell_type": "code",
      "source": [
        "import pyopencl as cl"
      ],
      "metadata": {
        "id": "J6WEeEhCKw15"
      },
      "execution_count": 34,
      "outputs": []
    },
    {
      "cell_type": "markdown",
      "source": [
        "Listing of available platforms"
      ],
      "metadata": {
        "id": "v2ZYDmIXMGTu"
      }
    },
    {
      "cell_type": "code",
      "source": [
        "platforms_list = cl.get_platforms()\n",
        "print(\"Number of platforms: \", len(platforms_list))\n",
        "platform = platforms_list[0]"
      ],
      "metadata": {
        "id": "Gd2DhC7KLQHS"
      },
      "execution_count": null,
      "outputs": []
    },
    {
      "cell_type": "markdown",
      "source": [
        "## Information about platform (Name, Vendor, Version)"
      ],
      "metadata": {
        "id": "zJFwIokQMUi0"
      }
    },
    {
      "cell_type": "code",
      "source": [
        "print(\"Platform name:\", platform.get_info(cl.platform_info.NAME))\n",
        "print(\"Platform vendor:\", platform.get_info(cl.platform_info.VENDOR))\n",
        "print(\"Platform version:\", platform.get_info(cl.platform_info.VERSION))"
      ],
      "metadata": {
        "id": "61sU2JQINv1p"
      },
      "execution_count": null,
      "outputs": []
    },
    {
      "cell_type": "markdown",
      "source": [
        "Listing available devices\n"
      ],
      "metadata": {
        "id": "CUvAda4TOUGE"
      }
    },
    {
      "cell_type": "code",
      "source": [
        "devices_list = platform.get_devices()\n",
        "print(\"Number of available device: \", len(devices_list))\n",
        "device = devices_list[0]"
      ],
      "metadata": {
        "id": "c1KPSkp6OuoX"
      },
      "execution_count": null,
      "outputs": []
    },
    {
      "cell_type": "markdown",
      "source": [
        "## Information about device"
      ],
      "metadata": {
        "id": "JYcdsSDUPQkZ"
      }
    },
    {
      "cell_type": "markdown",
      "source": [
        "Device name and version info"
      ],
      "metadata": {
        "id": "_C0hVlo0ZTH2"
      }
    },
    {
      "cell_type": "code",
      "source": [
        "print(\"Device name:\", device.get_info(cl.device_info.NAME))\n",
        "print(\"Device version:\", device.get_info(cl.device_info.VERSION))"
      ],
      "metadata": {
        "id": "qtnNpWT_PZm9"
      },
      "execution_count": null,
      "outputs": []
    },
    {
      "cell_type": "markdown",
      "source": [
        "Compute units and clock frequency info"
      ],
      "metadata": {
        "id": "rWTYp5qoZMrz"
      }
    },
    {
      "cell_type": "code",
      "source": [
        "print(\"Number of compute units:\", device.get_info(cl.device_info.MAX_COMPUTE_UNITS))\n",
        "print(\"Clock frequency:\", device.get_info(cl.device_info.MAX_CLOCK_FREQUENCY), \"MHz\")"
      ],
      "metadata": {
        "id": "zc1hB0IERdi6"
      },
      "execution_count": null,
      "outputs": []
    },
    {
      "cell_type": "markdown",
      "source": [
        "Work-items info"
      ],
      "metadata": {
        "id": "89MbDcNpZK3n"
      }
    },
    {
      "cell_type": "code",
      "source": [
        "print(\"Max work-group size:\", device.get_info(cl.device_info.MAX_WORK_GROUP_SIZE))\n",
        "print(\"Max work-items size:\", device.get_info(cl.device_info.MAX_WORK_ITEM_SIZES))\n",
        "print(\"Max work-items dimension:\", device.get_info(cl.device_info.MAX_WORK_ITEM_DIMENSIONS))"
      ],
      "metadata": {
        "id": "Gw3KEqNyZYiy"
      },
      "execution_count": null,
      "outputs": []
    },
    {
      "cell_type": "markdown",
      "source": [
        "Memory info"
      ],
      "metadata": {
        "id": "WlarFgMSUJ7E"
      }
    },
    {
      "cell_type": "code",
      "source": [
        "# API always returns memory size in bytes\n",
        "\n",
        "global_mem_size = device.get_info(cl.device_info.GLOBAL_MEM_SIZE)/(1024**3)         # conversion to Gb\n",
        "local_mem_size = device.get_info(cl.device_info.LOCAL_MEM_SIZE)/1024                # conversion to Kb\n",
        "constant_buff_size = device.get_info(cl.device_info.MAX_CONSTANT_BUFFER_SIZE)/1024  # conversion to Kb\n",
        "\n",
        "print(\"Global memory size:\", global_mem_size, \"Gb\")\n",
        "print(\"Local memory size:\", local_mem_size, \"Kb\")\n",
        "print(\"Constant buffer size:\", constant_buff_size, \"Kb\")"
      ],
      "metadata": {
        "id": "gwKVTE6iULhj"
      },
      "execution_count": null,
      "outputs": []
    }
  ],
  "metadata": {
    "kernelspec": {
      "display_name": "Python 3.8.10 64-bit",
      "language": "python",
      "name": "python3"
    },
    "language_info": {
      "name": "python",
      "version": "3.8.10"
    },
    "orig_nbformat": 4,
    "vscode": {
      "interpreter": {
        "hash": "767d51c1340bd893661ea55ea3124f6de3c7a262a8b4abca0554b478b1e2ff90"
      }
    },
    "colab": {
      "name": "test.ipynb",
      "provenance": [],
      "include_colab_link": true
    },
    "accelerator": "GPU",
    "gpuClass": "standard"
  },
  "nbformat": 4,
  "nbformat_minor": 0
}