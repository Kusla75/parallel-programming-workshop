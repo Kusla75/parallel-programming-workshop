{
  "cells": [
    {
      "cell_type": "markdown",
      "metadata": {
        "id": "view-in-github",
        "colab_type": "text"
      },
      "source": [
        "<a href=\"https://colab.research.google.com/github/Kusla75/parallel-programming-workshop/blob/master/03_runtime.ipynb\" target=\"_parent\"><img src=\"https://colab.research.google.com/assets/colab-badge.svg\" alt=\"Open In Colab\"/></a>"
      ]
    },
    {
      "cell_type": "markdown",
      "source": [
        "# Runtime and basic example demonstration\n",
        "\n",
        "In this example simple kernel program with runtime code is showcased.</br>\n",
        "This example shows how to send float32 array to the GPU and calculate in parallel $\\sin(x)$ of each element in array.\n",
        "\n"
      ],
      "metadata": {
        "id": "EomMyr6bvyge"
      }
    },
    {
      "cell_type": "code",
      "execution_count": null,
      "metadata": {
        "id": "b4DsbqEIvsMP"
      },
      "outputs": [],
      "source": [
        "!pip install pyopencl"
      ]
    },
    {
      "cell_type": "markdown",
      "source": [
        "## Kernel code"
      ],
      "metadata": {
        "id": "p0J6nlzQ4gZL"
      }
    },
    {
      "cell_type": "markdown",
      "source": [
        "```c\n",
        "__kernel void sinus(__global float* a) {\n",
        "    int i = get_global_id(0);\n",
        "    a[i] = sin(a[i]);\n",
        "}\n",
        "```"
      ],
      "metadata": {
        "id": "P2UWn-6UzBGP"
      }
    },
    {
      "cell_type": "markdown",
      "source": [
        "- `__kernel` - qualifier that declares that a function can be executed as kernel on a OpenCL device when called by host\n",
        "- `__global` - indicates that memory object is allocated in global memory space\n",
        "- `get_global_id(0)` - returns global work-item ID based on the number of global work-items specified to execute the kernel. Argument passed to this function specifies dimension eg. dimension 0"
      ],
      "metadata": {
        "id": "mbjxR6ht0uXw"
      }
    },
    {
      "cell_type": "markdown",
      "source": [
        "By convetion, file that have kernel programs inside have `.cl` extension.</br>\n",
        "In order to run this example, `.cl` program must be created and stored in local directory of VM instance"
      ],
      "metadata": {
        "id": "qgksps6h23tK"
      }
    },
    {
      "cell_type": "code",
      "source": [
        "!touch program.cl"
      ],
      "metadata": {
        "id": "Rbrhvs5B2iTN"
      },
      "execution_count": null,
      "outputs": []
    },
    {
      "cell_type": "markdown",
      "source": [
        "## Runtime code"
      ],
      "metadata": {
        "id": "61XlI32W4ZX2"
      }
    },
    {
      "cell_type": "code",
      "source": [
        "import numpy as np\n",
        "import pyopencl as cl\n",
        "\n",
        "np.random.seed(0)       # initializing seed for random function"
      ],
      "metadata": {
        "id": "Q89_YDMR8xdc"
      },
      "execution_count": null,
      "outputs": []
    },
    {
      "cell_type": "markdown",
      "source": [
        "Using NumPy we will generate array that will be send to the device to be processed.</br>\n",
        "`np.random.rand()` function we will generate elements from [0,1) interval and we will convert them to float32."
      ],
      "metadata": {
        "id": "YOpQ0N-Kb2i9"
      }
    },
    {
      "cell_type": "code",
      "source": [
        "size_of_array = 100\n",
        "array = np.random.randn(size_of_array).astype(np.float32)\n",
        "print(array)"
      ],
      "metadata": {
        "id": "pykeDj2eaUjM"
      },
      "execution_count": null,
      "outputs": []
    },
    {
      "cell_type": "markdown",
      "source": [
        "First we need to create a context and assign platform and device objects to that context. Available devices can be retrieved from platform object. Additionally, each program, buffer and command queue object must be assigned to some context."
      ],
      "metadata": {
        "id": "AF5MlgiiWDfD"
      }
    },
    {
      "cell_type": "code",
      "source": [
        "platform = cl.get_platforms()[0]\n",
        "gpu_device = platform.get_devices()[0]\n",
        "\n",
        "context = cl.Context(\n",
        "    devices=[gpu_device],\n",
        "    properties=[(cl.context_properties.PLATFORM, platform)]\n",
        ")"
      ],
      "metadata": {
        "id": "7wIbOudaT2fF"
      },
      "execution_count": null,
      "outputs": []
    },
    {
      "cell_type": "markdown",
      "source": [
        "Each device needs it's own command queue. Command queue is used to call kernel execution, send and retrieve data from the device"
      ],
      "metadata": {
        "id": "4my5YAfmWs85"
      }
    },
    {
      "cell_type": "code",
      "source": [
        "queue = cl.CommandQueue(context, gpu_device)"
      ],
      "metadata": {
        "id": "3jrWGh5rU4Lx"
      },
      "execution_count": null,
      "outputs": []
    },
    {
      "cell_type": "markdown",
      "source": [
        "Next we want to create a buffer object that will be a reference to data that is stored on a device"
      ],
      "metadata": {
        "id": "nlJvLEu9Xya7"
      }
    },
    {
      "cell_type": "code",
      "source": [
        "buffer = cl.Buffer(context, cl.mem_flags.READ_WRITE, array.nbytes)"
      ],
      "metadata": {
        "id": "BWU_z6wwV9xk"
      },
      "execution_count": null,
      "outputs": []
    },
    {
      "cell_type": "markdown",
      "source": [
        "Now we need to load our program file that has kernel function create program object and compile our kernel. After that we set arguments of our kernel this is done by passing buffers with data."
      ],
      "metadata": {
        "id": "lgvO52SkdEOe"
      }
    },
    {
      "cell_type": "code",
      "source": [
        "program_file = open(\"program.cl\", \"r\")\n",
        "program_src = program_file.read()\n",
        "\n",
        "program = cl.Program(context, program_src)\n",
        "program.build()                              # here the compilation process happens\n",
        "kernel = program.sinus                       # here we link our kernel object\n",
        "\n",
        "kernel.set_args(buffer)"
      ],
      "metadata": {
        "id": "csg3JaJhdM-M"
      },
      "execution_count": null,
      "outputs": []
    },
    {
      "cell_type": "markdown",
      "source": [
        "Copying data from host memory to memory on the device and assigning buffer object to that block of memory."
      ],
      "metadata": {
        "id": "Ri4VcFScexgz"
      }
    },
    {
      "cell_type": "code",
      "source": [
        "cl.enqueue_copy(queue, buffer, array)"
      ],
      "metadata": {
        "id": "4CnLHFTUfNWm"
      },
      "execution_count": null,
      "outputs": []
    },
    {
      "cell_type": "markdown",
      "source": [
        "Finally, we send kernel function to device and initiate work-items that will copy and run kernel.</br>\n",
        "We will launch same number of work-items as number of elements in array."
      ],
      "metadata": {
        "id": "fbAY3bAShuw-"
      }
    },
    {
      "cell_type": "code",
      "source": [
        "global_work_size = (size_of_array,)\n",
        "local_work_size = (size_of_array,)\n",
        "cl.enqueue_nd_range_kernel(queue, kernel, global_work_size, local_work_size)"
      ],
      "metadata": {
        "id": "-fYtxc4Ih_R5"
      },
      "execution_count": null,
      "outputs": []
    },
    {
      "cell_type": "markdown",
      "source": [
        "Calculation is finished, so we need to return data from device memory to host. We create empty result array and copy results there."
      ],
      "metadata": {
        "id": "fekFG27tjffm"
      }
    },
    {
      "cell_type": "code",
      "source": [
        "result_gpu = np.empty(size_of_array, dtype=np.float32)\n",
        "cl.enqueue_copy(queue, result_gpu, buffer)\n",
        "\n",
        "print(result_gpu)"
      ],
      "metadata": {
        "id": "7xW2HjF2jtpa"
      },
      "execution_count": null,
      "outputs": []
    },
    {
      "cell_type": "markdown",
      "source": [
        "# Let's check if results are valid"
      ],
      "metadata": {
        "id": "iEni0ARVkef5"
      }
    },
    {
      "cell_type": "markdown",
      "source": [
        "We will do the same calculation and compare if results from cpu and gpu are approximately the same. "
      ],
      "metadata": {
        "id": "Xn0GELtjko4a"
      }
    },
    {
      "cell_type": "code",
      "source": [
        "result_cpu = np.sin(array)\n",
        "\n",
        "are_same = np.allclose(result_cpu, result_gpu)\n",
        "print(\"Results from CPU and GPU are same: \", are_same)"
      ],
      "metadata": {
        "id": "y7ZmqCtVlH-p"
      },
      "execution_count": null,
      "outputs": []
    }
  ],
  "metadata": {
    "kernelspec": {
      "display_name": "Python 3.8.10 64-bit",
      "language": "python",
      "name": "python3"
    },
    "language_info": {
      "name": "python",
      "version": "3.8.10"
    },
    "orig_nbformat": 4,
    "vscode": {
      "interpreter": {
        "hash": "767d51c1340bd893661ea55ea3124f6de3c7a262a8b4abca0554b478b1e2ff90"
      }
    },
    "colab": {
      "name": "03_runtime.ipynb",
      "provenance": [],
      "include_colab_link": true
    },
    "accelerator": "GPU",
    "gpuClass": "standard"
  },
  "nbformat": 4,
  "nbformat_minor": 0
}