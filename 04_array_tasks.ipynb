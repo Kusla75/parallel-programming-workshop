{
  "nbformat": 4,
  "nbformat_minor": 0,
  "metadata": {
    "colab": {
      "name": "04_array_tasks.ipynb",
      "provenance": [],
      "collapsed_sections": [],
      "authorship_tag": "ABX9TyP02oX8xFf5byhM15ri6cAC",
      "include_colab_link": true
    },
    "kernelspec": {
      "name": "python3",
      "display_name": "Python 3"
    },
    "language_info": {
      "name": "python"
    }
  },
  "cells": [
    {
      "cell_type": "markdown",
      "metadata": {
        "id": "view-in-github",
        "colab_type": "text"
      },
      "source": [
        "<a href=\"https://colab.research.google.com/github/Kusla75/parallel-programming-workshop/blob/master/04_array_tasks.ipynb\" target=\"_parent\"><img src=\"https://colab.research.google.com/assets/colab-badge.svg\" alt=\"Open In Colab\"/></a>"
      ]
    },
    {
      "cell_type": "markdown",
      "source": [
        "# Task 01\n",
        "\n",
        "Write runtime program and kernel function that takes two float32 arrays `a` and `b` of legth 1000 and then calculates `a` + `b`.</br>\n",
        "Result is stored in new array `c`. "
      ],
      "metadata": {
        "id": "HzfokybU2fW3"
      }
    },
    {
      "cell_type": "markdown",
      "source": [
        "**Kernel code**\n",
        "\n",
        "```c\n",
        "     /* Type kernel code here\n",
        "```"
      ],
      "metadata": {
        "id": "Bu2ilBqC4Rir"
      }
    },
    {
      "cell_type": "code",
      "execution_count": 1,
      "metadata": {
        "id": "5XWFltTI2Hla"
      },
      "outputs": [],
      "source": [
        "\n",
        "# Type runtime code here...\n"
      ]
    },
    {
      "cell_type": "markdown",
      "source": [
        "# Task 02\n",
        "\n",
        "Write runtime program and kernel function that normalizes n-dimensional vector. "
      ],
      "metadata": {
        "id": "9Ocm3o-S5hyI"
      }
    },
    {
      "cell_type": "markdown",
      "source": [
        "**Kernel code**\n",
        "\n",
        "```c\n",
        "     /* Type kernel code here\n",
        "```"
      ],
      "metadata": {
        "id": "11KRa2La8KVS"
      }
    },
    {
      "cell_type": "code",
      "execution_count": null,
      "metadata": {
        "id": "pJIyHtVe8LSl"
      },
      "outputs": [],
      "source": [
        "\n",
        "# Type runtime code here...\n"
      ]
    },
    {
      "cell_type": "markdown",
      "source": [
        "# Task 03 (experimental)\n",
        "\n",
        "Try to aproximate π using numerical methods. One mothod is to calculate value of $\\int_0^1 \\frac{4}{1+x^{2}} $dx."
      ],
      "metadata": {
        "id": "2Srk04SS9uGb"
      }
    }
  ]
}