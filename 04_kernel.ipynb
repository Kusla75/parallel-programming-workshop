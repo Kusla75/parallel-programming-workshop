{
 "cells": [
  {
   "cell_type": "markdown",
   "metadata": {},
   "source": [
    "### Work-item specific functions"
   ]
  },
  {
   "cell_type": "markdown",
   "metadata": {},
   "source": [
    "- `get_global_id(dim)` - returns unique global work-item ID for given dimension\n",
    "- `get_local_id(dim)` - returns unique work-item ID inside work-group for given dimension\n",
    "- `get_group_id(dim)` - returns unique work-group ID in which work-item is located"
   ]
  },
  {
   "cell_type": "markdown",
   "metadata": {},
   "source": [
    "- `get_local_size(dim)` - returns number of work-items inside work-group for given dimension\n",
    "- `get_num_groups(dim)` - returns number of work-groups for given dimension"
   ]
  },
  {
   "cell_type": "markdown",
   "metadata": {},
   "source": [
    "Example for 2-dimensional layout\n",
    "\n",
    "![](./images/ocl_work_groups.png)"
   ]
  },
  {
   "cell_type": "markdown",
   "metadata": {},
   "source": [
    "### Barriers (work-item synchronization)"
   ]
  },
  {
   "cell_type": "markdown",
   "metadata": {},
   "source": [
    "![](./images/ocl_barrier.png)"
   ]
  },
  {
   "cell_type": "markdown",
   "metadata": {},
   "source": [
    "**Example**\n",
    "\n",
    "```c\n",
    "__kernel foo(__global float* arr, __global) {\n",
    "\tint id = get_global_id(0);\n",
    "\n",
    "\tarr[id] = cos(arr[id]);\n",
    "\t\n",
    "\tbarrier(CLK_GLOBAL_MEM_FENCE);\t// work-items wait here\n",
    "\n",
    "\tif(arr[id] < 0) {\n",
    "\t\tarr[id] = 0;\n",
    "\t}\n",
    "}\n",
    "```"
   ]
  }
 ],
 "metadata": {
  "kernelspec": {
   "display_name": "Python 3.8.10 64-bit",
   "language": "python",
   "name": "python3"
  },
  "language_info": {
   "name": "python",
   "version": "3.8.10"
  },
  "orig_nbformat": 4,
  "vscode": {
   "interpreter": {
    "hash": "767d51c1340bd893661ea55ea3124f6de3c7a262a8b4abca0554b478b1e2ff90"
   }
  }
 },
 "nbformat": 4,
 "nbformat_minor": 2
}
