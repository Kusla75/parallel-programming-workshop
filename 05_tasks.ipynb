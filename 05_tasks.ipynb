{
  "cells": [
    {
      "cell_type": "markdown",
      "metadata": {
        "colab_type": "text",
        "id": "view-in-github"
      },
      "source": [
        "<a href=\"https://colab.research.google.com/github/Kusla75/parallel-programming-workshop/blob/master/04_array_tasks.ipynb\" target=\"_parent\"><img src=\"https://colab.research.google.com/assets/colab-badge.svg\" alt=\"Open In Colab\"/></a>"
      ]
    },
    {
      "cell_type": "markdown",
      "metadata": {
        "id": "HzfokybU2fW3"
      },
      "source": [
        "### Task 01\n",
        "\n",
        "Write runtime program and kernel function that takes two float32 arrays `a` and `b` of legth 1000 and then calculates `a` + `b`.</br>\n",
        "Result is stored in new array `c`. "
      ]
    },
    {
      "cell_type": "markdown",
      "metadata": {
        "id": "Bu2ilBqC4Rir"
      },
      "source": [
        "```c\n",
        "     // Type kernel code here...\n",
        "```"
      ]
    },
    {
      "cell_type": "code",
      "execution_count": 1,
      "metadata": {
        "id": "5XWFltTI2Hla"
      },
      "outputs": [],
      "source": [
        "\n",
        "# Type runtime code here...\n"
      ]
    },
    {
      "cell_type": "markdown",
      "metadata": {},
      "source": [
        "---"
      ]
    },
    {
      "cell_type": "markdown",
      "metadata": {
        "id": "9Ocm3o-S5hyI"
      },
      "source": [
        "### Task 02\n",
        "\n",
        "Write runtime program and kernel function that normalizes n-dimensional vector. "
      ]
    },
    {
      "cell_type": "markdown",
      "metadata": {
        "id": "11KRa2La8KVS"
      },
      "source": [
        "```c\n",
        "     // Type kernel code here...\n",
        "```"
      ]
    },
    {
      "cell_type": "code",
      "execution_count": null,
      "metadata": {
        "id": "pJIyHtVe8LSl"
      },
      "outputs": [],
      "source": [
        "\n",
        "# Type runtime code here...\n"
      ]
    },
    {
      "cell_type": "markdown",
      "metadata": {},
      "source": [
        "---"
      ]
    },
    {
      "cell_type": "markdown",
      "metadata": {
        "id": "2Srk04SS9uGb"
      },
      "source": [
        "### Task 03 (experimental)\n",
        "\n",
        "Try to aproximate π using numerical methods. One mothod is to calculate value of $\\int_0^1 \\frac{4}{1+x^{2}} $dx."
      ]
    },
    {
      "cell_type": "markdown",
      "metadata": {},
      "source": [
        "---"
      ]
    },
    {
      "cell_type": "markdown",
      "metadata": {},
      "source": [
        "### Task 04\n",
        "\n",
        "Write runtime program and kernel function that calculates sum of rows and columns of square matrix."
      ]
    },
    {
      "cell_type": "markdown",
      "metadata": {
        "id": "11KRa2La8KVS"
      },
      "source": [
        "```c\n",
        "     // Type kernel code here...\n",
        "```"
      ]
    },
    {
      "cell_type": "code",
      "execution_count": null,
      "metadata": {
        "id": "pJIyHtVe8LSl"
      },
      "outputs": [],
      "source": [
        "\n",
        "# Type runtime code here...\n"
      ]
    },
    {
      "cell_type": "markdown",
      "metadata": {},
      "source": [
        "---"
      ]
    },
    {
      "cell_type": "markdown",
      "metadata": {},
      "source": [
        "### Task 05\n",
        "\n",
        "Write runtime code and kernel function that multiplies two square matricies `a` and `b` and then the result is stored in matrix `c`.</br>\n",
        "Try to modify kernel code so that multiplying rectangular matricies is possible."
      ]
    },
    {
      "cell_type": "markdown",
      "metadata": {
        "id": "11KRa2La8KVS"
      },
      "source": [
        "```c\n",
        "     // Type kernel code here...\n",
        "```"
      ]
    },
    {
      "cell_type": "code",
      "execution_count": null,
      "metadata": {
        "id": "pJIyHtVe8LSl"
      },
      "outputs": [],
      "source": [
        "\n",
        "# Type runtime code here...\n"
      ]
    },
    {
      "cell_type": "markdown",
      "metadata": {},
      "source": [
        "---"
      ]
    }
  ],
  "metadata": {
    "colab": {
      "authorship_tag": "ABX9TyP02oX8xFf5byhM15ri6cAC",
      "collapsed_sections": [],
      "include_colab_link": true,
      "name": "04_array_tasks.ipynb",
      "provenance": []
    },
    "kernelspec": {
      "display_name": "Python 3.8.10 64-bit",
      "language": "python",
      "name": "python3"
    },
    "language_info": {
      "name": "python",
      "version": "3.8.10"
    },
    "vscode": {
      "interpreter": {
        "hash": "767d51c1340bd893661ea55ea3124f6de3c7a262a8b4abca0554b478b1e2ff90"
      }
    }
  },
  "nbformat": 4,
  "nbformat_minor": 0
}
