{
 "cells": [
  {
   "cell_type": "markdown",
   "metadata": {},
   "source": [
    "# Intro to OpenCL and general purpose computing"
   ]
  },
  {
   "cell_type": "markdown",
   "metadata": {},
   "source": [
    "OpenCL allows us to write and execute programs on all sort of different computing devices:\n",
    "- central processing unit (CPU)\n",
    "- graphics processing unit (GPU)\n",
    "- digital signal processor (DSP)\n",
    "- field-programmable gate array (FPGA)"
   ]
  },
  {
   "cell_type": "markdown",
   "metadata": {},
   "source": [
    "OpenCL is only a **specification** that defines programming model and API calls,</br> \n",
    "implementations of those calls depend on hardware vendors and come with device drivers.\n",
    "\n",
    "Sometimes portability is more important than performance."
   ]
  },
  {
   "cell_type": "markdown",
   "metadata": {},
   "source": [
    "### Framework scheme"
   ]
  },
  {
   "cell_type": "markdown",
   "metadata": {},
   "source": [
    "![](images/ocl_framework_scheme.png)"
   ]
  },
  {
   "cell_type": "markdown",
   "metadata": {},
   "source": [
    "### Important OpenCL strucutres and concepts:"
   ]
  },
  {
   "cell_type": "markdown",
   "metadata": {},
   "source": [
    "- `platform` - specific OpenCL implementation (AMD, NVIDIA or Intel implementation)\n",
    "- `context` - scope/domain with certain number of compute devices created on top of chosen platform\n",
    "- `compute device` - processor and accelerators (CPU, GPU, FPGA etc.)\n",
    "- `compute unit` - core of compute device\n",
    "- `processing elements` - ALU components that are organized in one row. All processing elements together perform SIMD processing\n",
    "</br></br>\n",
    "- `kernel` - program that gets duplicated on compute device and runs in parallel \n",
    "- `command queue` - interface for compute device. Host sends kernels and data transfer requests through queues\n",
    "- `buffer` - memory objects that are references to the data stored on a compute device"
   ]
  },
  {
   "cell_type": "markdown",
   "metadata": {},
   "source": [
    "### Memory hierarchy"
   ]
  },
  {
   "cell_type": "markdown",
   "metadata": {},
   "source": [
    "![](images/ocl_abstraction.png)"
   ]
  },
  {
   "cell_type": "markdown",
   "metadata": {},
   "source": [
    "### CPU vs GPU architecture"
   ]
  },
  {
   "cell_type": "markdown",
   "metadata": {},
   "source": [
    "![](images/gpu_vs_cpu_architecture.png)"
   ]
  }
 ],
 "metadata": {
  "kernelspec": {
   "display_name": "Python 3.8.10 64-bit",
   "language": "python",
   "name": "python3"
  },
  "language_info": {
   "name": "python",
   "version": "3.8.10"
  },
  "orig_nbformat": 4,
  "vscode": {
   "interpreter": {
    "hash": "767d51c1340bd893661ea55ea3124f6de3c7a262a8b4abca0554b478b1e2ff90"
   }
  }
 },
 "nbformat": 4,
 "nbformat_minor": 2
}
